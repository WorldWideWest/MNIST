{
 "cells": [
  {
   "cell_type": "code",
   "execution_count": 1,
   "id": "b98a5dd7",
   "metadata": {},
   "outputs": [],
   "source": [
    "import torch\n",
    "import torch.nn as nn\n",
    "from torch.optim import Adam\n",
    "from torch.autograd import Variable\n",
    "from torch.utils.data import DataLoader\n",
    "from torchvision import datasets\n",
    "from torchvision.transforms import ToTensor\n",
    "import matplotlib.pyplot as plt\n",
    "\n",
    "from model import Model"
   ]
  },
  {
   "cell_type": "code",
   "execution_count": 2,
   "id": "86a6ee9b",
   "metadata": {},
   "outputs": [
    {
     "data": {
      "text/plain": [
       "device(type='cuda', index=0)"
      ]
     },
     "execution_count": 2,
     "metadata": {},
     "output_type": "execute_result"
    }
   ],
   "source": [
    "device = torch.device(\"cuda:0\" if torch.cuda.is_available() else \"cpu\")\n",
    "device"
   ]
  },
  {
   "cell_type": "code",
   "execution_count": 3,
   "id": "65a40a59",
   "metadata": {},
   "outputs": [],
   "source": [
    "trainingSet = datasets.MNIST(\n",
    "    root = \"data\",\n",
    "    train = True,\n",
    "    transform = ToTensor(),\n",
    "    download = True\n",
    ")\n",
    "\n",
    "testSet = datasets.MNIST(\n",
    "    root = \"data\",\n",
    "    train = False,\n",
    "    transform = ToTensor(),\n",
    ")"
   ]
  },
  {
   "cell_type": "code",
   "execution_count": 4,
   "id": "93884f8f",
   "metadata": {},
   "outputs": [
    {
     "name": "stdout",
     "output_type": "stream",
     "text": [
      "Training data: torch.Size([60000, 28, 28]) | Testing data: torch.Size([10000, 28, 28])\n"
     ]
    }
   ],
   "source": [
    "print(f\"Training data: { trainingSet.data.shape } | Testing data: { testSet.data.shape }\")"
   ]
  },
  {
   "cell_type": "code",
   "execution_count": 5,
   "id": "f0493637",
   "metadata": {},
   "outputs": [
    {
     "data": {
      "image/png": "[encoded data removed]",
      "text/plain": [
       "<Figure size 432x288 with 1 Axes>"
      ]
     },
     "metadata": {
      "needs_background": "light"
     },
     "output_type": "display_data"
    }
   ],
   "source": [
    "plt.imshow(trainingSet.data[0], cmap = \"gray\")\n",
    "plt.title(\"%i\" % trainingSet.targets[0])\n",
    "plt.show()"
   ]
  },
  {
   "cell_type": "code",
   "execution_count": 6,
   "id": "853ef33a",
   "metadata": {},
   "outputs": [
    {
     "data": {
      "image/png": "[encoded data removed]",
      "text/plain": [
       "<Figure size 720x720 with 25 Axes>"
      ]
     },
     "metadata": {
      "needs_background": "light"
     },
     "output_type": "display_data"
    }
   ],
   "source": [
    "figure = plt.figure(figsize = (10, 10))\n",
    "cols, rows = 5, 5\n",
    "for i in range(1, cols * rows + 1):\n",
    "    sample_idx = torch.randint(len(trainingSet), size = (1,)).item()\n",
    "    img, label = trainingSet[sample_idx]\n",
    "    figure.add_subplot(rows, cols, i)\n",
    "    plt.title(label)\n",
    "    plt.axis(\"off\")\n",
    "    plt.imshow(img.squeeze(), cmap=\"gray\")\n",
    "plt.show()"
   ]
  },
  {
   "cell_type": "code",
   "execution_count": 22,
   "id": "f4ee75b7",
   "metadata": {},
   "outputs": [],
   "source": [
    "loaders = {\n",
    "    \"train\" : DataLoader(\n",
    "        trainingSet,\n",
    "        batch_size = 100,\n",
    "        shuffle = True,\n",
    "        num_workers = 1\n",
    "    ),\n",
    "    \"test\" : DataLoader(\n",
    "        testSet,\n",
    "        batch_size = 100,\n",
    "        shuffle = True,\n",
    "        num_workers = 1\n",
    "    ),\n",
    "}"
   ]
  },
  {
   "cell_type": "code",
   "execution_count": 23,
   "id": "a43b2494",
   "metadata": {},
   "outputs": [
    {
     "data": {
      "text/plain": [
       "torch.Size([28, 28])"
      ]
     },
     "execution_count": 23,
     "metadata": {},
     "output_type": "execute_result"
    }
   ],
   "source": [
    "trainingSet.data[0].shape"
   ]
  },
  {
   "cell_type": "code",
   "execution_count": 9,
   "id": "a47efaee",
   "metadata": {},
   "outputs": [
    {
     "data": {
      "text/plain": [
       "Model(\n",
       "  (conv1): Sequential(\n",
       "    (0): Conv2d(1, 16, kernel_size=(5, 5), stride=(1, 1), padding=(2, 2))\n",
       "    (1): ReLU()\n",
       "    (2): MaxPool2d(kernel_size=2, stride=2, padding=0, dilation=1, ceil_mode=False)\n",
       "  )\n",
       "  (conv2): Sequential(\n",
       "    (0): Conv2d(16, 32, kernel_size=(5, 5), stride=(1, 1), padding=(2, 2))\n",
       "    (1): ReLU()\n",
       "    (2): MaxPool2d(kernel_size=2, stride=2, padding=0, dilation=1, ceil_mode=False)\n",
       "  )\n",
       "  (out): Linear(in_features=1568, out_features=10, bias=True)\n",
       ")"
      ]
     },
     "execution_count": 9,
     "metadata": {},
     "output_type": "execute_result"
    }
   ],
   "source": [
    "model = Model()\n",
    "model.to(torch.device(\"cuda:0\"))\n",
    "model"
   ]
  },
  {
   "cell_type": "code",
   "execution_count": 10,
   "id": "d1607571",
   "metadata": {},
   "outputs": [],
   "source": [
    "loss_func = nn.CrossEntropyLoss()\n",
    "optimizer = Adam(model.parameters(), lr = .01)"
   ]
  },
  {
   "cell_type": "code",
   "execution_count": 11,
   "id": "aa9a847d",
   "metadata": {},
   "outputs": [
    {
     "data": {
      "text/plain": [
       "Adam (\n",
       "Parameter Group 0\n",
       "    amsgrad: False\n",
       "    betas: (0.9, 0.999)\n",
       "    eps: 1e-08\n",
       "    lr: 0.01\n",
       "    weight_decay: 0\n",
       ")"
      ]
     },
     "execution_count": 11,
     "metadata": {},
     "output_type": "execute_result"
    }
   ],
   "source": [
    "optimizer"
   ]
  },
  {
   "cell_type": "code",
   "execution_count": 12,
   "id": "26f6656f",
   "metadata": {},
   "outputs": [],
   "source": [
    "epochs = 10\n",
    "\n",
    "def train(epochs, model, loaders):\n",
    "    model.train()\n",
    "    \n",
    "    total_step = len(loaders[\"train\"])\n",
    "    \n",
    "    for epoch in range(epochs):\n",
    "        for i, (images, labels) in enumerate(loaders[\"train\"]):\n",
    "            bX = Variable(images.to(device)) # batch x\n",
    "            bY = Variable(labels.to(device)) # batch y\n",
    "            \n",
    "            output = model(bX)[0]\n",
    "            loss = loss_func(output, bY) # Callculating the loss\n",
    "            \n",
    "            optimizer.zero_grad() # Clearing the gradients for the next step\n",
    "            \n",
    "            loss.backward() # Backpropagation, computing gradients\n",
    "            optimizer.step() # Applying gradients\n",
    "            \n",
    "            if (i + 1) % 100 == 0:\n",
    "                print(\"Epoch: [{} | {}], Step: [{} | {}], Loss: {:.4f}\".format(\n",
    "                    epoch + 1, epochs, i + 1, total_step, loss.item()))\n",
    "                pass\n",
    "            pass\n",
    "        pass"
   ]
  },
  {
   "cell_type": "code",
   "execution_count": 13,
   "id": "276da7ba",
   "metadata": {
    "scrolled": false
   },
   "outputs": [
    {
     "name": "stdout",
     "output_type": "stream",
     "text": [
      "Epoch: [1 | 10], Step: [100 | 600], Loss: 0.3097\n",
      "Epoch: [1 | 10], Step: [200 | 600], Loss: 0.1851\n",
      "Epoch: [1 | 10], Step: [300 | 600], Loss: 0.0969\n",
      "Epoch: [1 | 10], Step: [400 | 600], Loss: 0.0598\n",
      "Epoch: [1 | 10], Step: [500 | 600], Loss: 0.0686\n",
      "Epoch: [1 | 10], Step: [600 | 600], Loss: 0.0291\n",
      "Epoch: [2 | 10], Step: [100 | 600], Loss: 0.0681\n",
      "Epoch: [2 | 10], Step: [200 | 600], Loss: 0.0296\n",
      "Epoch: [2 | 10], Step: [300 | 600], Loss: 0.0818\n",
      "Epoch: [2 | 10], Step: [400 | 600], Loss: 0.0378\n",
      "Epoch: [2 | 10], Step: [500 | 600], Loss: 0.0109\n",
      "Epoch: [2 | 10], Step: [600 | 600], Loss: 0.1794\n",
      "Epoch: [3 | 10], Step: [100 | 600], Loss: 0.0197\n",
      "Epoch: [3 | 10], Step: [200 | 600], Loss: 0.0854\n",
      "Epoch: [3 | 10], Step: [300 | 600], Loss: 0.0130\n",
      "Epoch: [3 | 10], Step: [400 | 600], Loss: 0.0165\n",
      "Epoch: [3 | 10], Step: [500 | 600], Loss: 0.0248\n",
      "Epoch: [3 | 10], Step: [600 | 600], Loss: 0.1589\n",
      "Epoch: [4 | 10], Step: [100 | 600], Loss: 0.0256\n",
      "Epoch: [4 | 10], Step: [200 | 600], Loss: 0.1335\n",
      "Epoch: [4 | 10], Step: [300 | 600], Loss: 0.0566\n",
      "Epoch: [4 | 10], Step: [400 | 600], Loss: 0.0101\n",
      "Epoch: [4 | 10], Step: [500 | 600], Loss: 0.0624\n",
      "Epoch: [4 | 10], Step: [600 | 600], Loss: 0.0639\n",
      "Epoch: [5 | 10], Step: [100 | 600], Loss: 0.0807\n",
      "Epoch: [5 | 10], Step: [200 | 600], Loss: 0.0926\n",
      "Epoch: [5 | 10], Step: [300 | 600], Loss: 0.0259\n",
      "Epoch: [5 | 10], Step: [400 | 600], Loss: 0.0090\n",
      "Epoch: [5 | 10], Step: [500 | 600], Loss: 0.0760\n",
      "Epoch: [5 | 10], Step: [600 | 600], Loss: 0.0089\n",
      "Epoch: [6 | 10], Step: [100 | 600], Loss: 0.0042\n",
      "Epoch: [6 | 10], Step: [200 | 600], Loss: 0.0398\n",
      "Epoch: [6 | 10], Step: [300 | 600], Loss: 0.0666\n",
      "Epoch: [6 | 10], Step: [400 | 600], Loss: 0.0684\n",
      "Epoch: [6 | 10], Step: [500 | 600], Loss: 0.1010\n",
      "Epoch: [6 | 10], Step: [600 | 600], Loss: 0.0953\n",
      "Epoch: [7 | 10], Step: [100 | 600], Loss: 0.0125\n",
      "Epoch: [7 | 10], Step: [200 | 600], Loss: 0.0391\n",
      "Epoch: [7 | 10], Step: [300 | 600], Loss: 0.0214\n",
      "Epoch: [7 | 10], Step: [400 | 600], Loss: 0.0547\n",
      "Epoch: [7 | 10], Step: [500 | 600], Loss: 0.0018\n",
      "Epoch: [7 | 10], Step: [600 | 600], Loss: 0.0457\n",
      "Epoch: [8 | 10], Step: [100 | 600], Loss: 0.0276\n",
      "Epoch: [8 | 10], Step: [200 | 600], Loss: 0.1276\n",
      "Epoch: [8 | 10], Step: [300 | 600], Loss: 0.0123\n",
      "Epoch: [8 | 10], Step: [400 | 600], Loss: 0.0030\n",
      "Epoch: [8 | 10], Step: [500 | 600], Loss: 0.0016\n",
      "Epoch: [8 | 10], Step: [600 | 600], Loss: 0.0211\n",
      "Epoch: [9 | 10], Step: [100 | 600], Loss: 0.0172\n",
      "Epoch: [9 | 10], Step: [200 | 600], Loss: 0.0437\n",
      "Epoch: [9 | 10], Step: [300 | 600], Loss: 0.0326\n",
      "Epoch: [9 | 10], Step: [400 | 600], Loss: 0.0052\n",
      "Epoch: [9 | 10], Step: [500 | 600], Loss: 0.0961\n",
      "Epoch: [9 | 10], Step: [600 | 600], Loss: 0.0503\n",
      "Epoch: [10 | 10], Step: [100 | 600], Loss: 0.0003\n",
      "Epoch: [10 | 10], Step: [200 | 600], Loss: 0.0613\n",
      "Epoch: [10 | 10], Step: [300 | 600], Loss: 0.0905\n",
      "Epoch: [10 | 10], Step: [400 | 600], Loss: 0.1157\n",
      "Epoch: [10 | 10], Step: [500 | 600], Loss: 0.0801\n",
      "Epoch: [10 | 10], Step: [600 | 600], Loss: 0.1996\n"
     ]
    }
   ],
   "source": [
    "train(epochs, model, loaders)"
   ]
  },
  {
   "cell_type": "code",
   "execution_count": 14,
   "id": "73104cdf",
   "metadata": {},
   "outputs": [],
   "source": [
    "def test():\n",
    "    model.eval()\n",
    "    with torch.no_grad():\n",
    "        correct, total = 0, 0\n",
    "        \n",
    "        for images, labels in loaders[\"test\"]:\n",
    "            images.to(device)\n",
    "            labels.to(device)\n",
    "            test_output, last_layer = model(images.to(device))\n",
    "            pred_y = torch.max(test_output, 1)[1].data.squeeze()\n",
    "            accuracy = (pred_y == labels.to(device)).sum().item() / float(labels.to(device).size(0))\n",
    "            pass\n",
    "        print('Test Accuracy of the model on the 10000 test images: %.2f' % accuracy)\n",
    "        pass"
   ]
  },
  {
   "cell_type": "code",
   "execution_count": 15,
   "id": "d0a8e4b8",
   "metadata": {},
   "outputs": [
    {
     "name": "stdout",
     "output_type": "stream",
     "text": [
      "Test Accuracy of the model on the 10000 test images: 1.00\n"
     ]
    }
   ],
   "source": [
    "test()"
   ]
  },
  {
   "cell_type": "code",
   "execution_count": 16,
   "id": "55f13ecb",
   "metadata": {},
   "outputs": [],
   "source": [
    "sample = next(iter(loaders['test']))"
   ]
  },
  {
   "cell_type": "code",
   "execution_count": 17,
   "id": "4ead1f67",
   "metadata": {},
   "outputs": [],
   "source": [
    "imgs, labls = sample"
   ]
  },
  {
   "cell_type": "code",
   "execution_count": 18,
   "id": "f1daebb3",
   "metadata": {},
   "outputs": [],
   "source": [
    "actual_number = labls[:10].numpy()"
   ]
  },
  {
   "cell_type": "code",
   "execution_count": 19,
   "id": "7a85bc9b",
   "metadata": {
    "scrolled": false
   },
   "outputs": [],
   "source": [
    "testOut, lastLayer = model(imgs[:10].to(device))\n",
    "predictions = torch.max(testOut.to(device), 1)"
   ]
  },
  {
   "cell_type": "code",
   "execution_count": 20,
   "id": "7e4dc6a0",
   "metadata": {},
   "outputs": [],
   "source": [
    "predictions = predictions[1].data.cpu().numpy().squeeze()"
   ]
  },
  {
   "cell_type": "code",
   "execution_count": 21,
   "id": "8dc45d5e",
   "metadata": {},
   "outputs": [
    {
     "name": "stdout",
     "output_type": "stream",
     "text": [
      "[8 5 8 8 9 2 1 1 0 2] \n",
      "[8 5 8 8 9 2 1 1 0 2]\n"
     ]
    }
   ],
   "source": [
    "print(f\"{ labls[:10].numpy() } \\n{ predictions }\")"
   ]
  },
  {
   "cell_type": "code",
   "execution_count": null,
   "id": "e4744196",
   "metadata": {},
   "outputs": [],
   "source": []
  },
  {
   "cell_type": "code",
   "execution_count": null,
   "id": "2e5651f1",
   "metadata": {},
   "outputs": [],
   "source": []
  },
  {
   "cell_type": "code",
   "execution_count": null,
   "id": "4dc67612",
   "metadata": {},
   "outputs": [],
   "source": []
  },
  {
   "cell_type": "code",
   "execution_count": null,
   "id": "302942d4",
   "metadata": {},
   "outputs": [],
   "source": []
  },
  {
   "cell_type": "code",
   "execution_count": null,
   "id": "de23961d",
   "metadata": {},
   "outputs": [],
   "source": []
  }
 ],
 "metadata": {
  "kernelspec": {
   "display_name": "Python 3 (ipykernel)",
   "language": "python",
   "name": "python3"
  },
  "language_info": {
   "codemirror_mode": {
    "name": "ipython",
    "version": 3
   },
   "file_extension": ".py",
   "mimetype": "text/x-python",
   "name": "python",
   "nbconvert_exporter": "python",
   "pygments_lexer": "ipython3",
   "version": "3.8.10"
  }
 },
 "nbformat": 4,
 "nbformat_minor": 5
}
