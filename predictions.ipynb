{
 "cells": [
  {
   "cell_type": "code",
   "execution_count": 1,
   "id": "b98a5dd7",
   "metadata": {},
   "outputs": [],
   "source": [
    "import torch\n",
    "import torch.nn as nn\n",
    "from torch.optim import Adam\n",
    "from torch.autograd import Variable\n",
    "from torch.utils.data import DataLoader\n",
    "from torchvision import datasets\n",
    "from torchvision.transforms import ToTensor\n",
    "import matplotlib.pyplot as plt\n",
    "\n",
    "from model import Model"
   ]
  },
  {
   "cell_type": "code",
   "execution_count": 14,
   "id": "86a6ee9b",
   "metadata": {},
   "outputs": [],
   "source": [
    "device = torch.device(\"cuda:0\" if torch.cuda.is_available() else \"cpu\")"
   ]
  },
  {
   "cell_type": "code",
   "execution_count": 15,
   "id": "7f00a62d",
   "metadata": {},
   "outputs": [
    {
     "data": {
      "text/plain": [
       "device(type='cuda', index=0)"
      ]
     },
     "execution_count": 15,
     "metadata": {},
     "output_type": "execute_result"
    }
   ],
   "source": [
    "device"
   ]
  },
  {
   "cell_type": "code",
   "execution_count": null,
   "id": "63a554b5",
   "metadata": {},
   "outputs": [],
   "source": []
  },
  {
   "cell_type": "code",
   "execution_count": 4,
   "id": "65a40a59",
   "metadata": {},
   "outputs": [],
   "source": [
    "trainingSet = datasets.MNIST(\n",
    "    root = \"data\",\n",
    "    train = True,\n",
    "    transform = ToTensor(),\n",
    "    download = True\n",
    ")\n",
    "\n",
    "testSet = datasets.MNIST(\n",
    "    root = \"data\",\n",
    "    train = False,\n",
    "    transform = ToTensor(),\n",
    ")"
   ]
  },
  {
   "cell_type": "code",
   "execution_count": 5,
   "id": "93884f8f",
   "metadata": {},
   "outputs": [
    {
     "name": "stdout",
     "output_type": "stream",
     "text": [
      "Training data: torch.Size([60000, 28, 28]) | Testing data: torch.Size([10000, 28, 28])\n"
     ]
    }
   ],
   "source": [
    "print(f\"Training data: { trainingSet.data.shape } | Testing data: { testSet.data.shape }\")"
   ]
  },
  {
   "cell_type": "code",
   "execution_count": 6,
   "id": "f0493637",
   "metadata": {},
   "outputs": [
    {
     "data": {
      "image/png": "[encoded data removed]",
      "text/plain": [
       "<Figure size 432x288 with 1 Axes>"
      ]
     },
     "metadata": {
      "needs_background": "light"
     },
     "output_type": "display_data"
    }
   ],
   "source": [
    "plt.imshow(trainingSet.data[0], cmap = \"gray\")\n",
    "plt.title(\"%i\" % trainingSet.targets[0])\n",
    "plt.show()"
   ]
  },
  {
   "cell_type": "code",
   "execution_count": 7,
   "id": "853ef33a",
   "metadata": {},
   "outputs": [
    {
     "data": {
      "image/png": "[encoded data removed]",
      "text/plain": [
       "<Figure size 720x720 with 25 Axes>"
      ]
     },
     "metadata": {
      "needs_background": "light"
     },
     "output_type": "display_data"
    }
   ],
   "source": [
    "figure = plt.figure(figsize = (10, 10))\n",
    "cols, rows = 5, 5\n",
    "for i in range(1, cols * rows + 1):\n",
    "    sample_idx = torch.randint(len(trainingSet), size = (1,)).item()\n",
    "    img, label = trainingSet[sample_idx]\n",
    "    figure.add_subplot(rows, cols, i)\n",
    "    plt.title(label)\n",
    "    plt.axis(\"off\")\n",
    "    plt.imshow(img.squeeze(), cmap=\"gray\")\n",
    "plt.show()"
   ]
  },
  {
   "cell_type": "code",
   "execution_count": 8,
   "id": "f4ee75b7",
   "metadata": {},
   "outputs": [],
   "source": [
    "loaders = {\n",
    "    \"train\" : DataLoader(\n",
    "        trainingSet,\n",
    "        batch_size = 100,\n",
    "        shuffle = True,\n",
    "        num_workers = 1\n",
    "    ),\n",
    "    \"test\" : DataLoader(\n",
    "        testSet,\n",
    "        batch_size = 100,\n",
    "        shuffle = True,\n",
    "        num_workers = 1\n",
    "    ),\n",
    "}"
   ]
  },
  {
   "cell_type": "code",
   "execution_count": 9,
   "id": "a43b2494",
   "metadata": {},
   "outputs": [
    {
     "data": {
      "text/plain": [
       "torch.Size([28, 28])"
      ]
     },
     "execution_count": 9,
     "metadata": {},
     "output_type": "execute_result"
    }
   ],
   "source": [
    "trainingSet.data[0].shape"
   ]
  },
  {
   "cell_type": "code",
   "execution_count": 10,
   "id": "a47efaee",
   "metadata": {},
   "outputs": [
    {
     "data": {
      "text/plain": [
       "Model(\n",
       "  (conv1): Sequential(\n",
       "    (0): Conv2d(1, 16, kernel_size=(5, 5), stride=(1, 1), padding=(2, 2))\n",
       "    (1): ReLU()\n",
       "    (2): MaxPool2d(kernel_size=2, stride=2, padding=0, dilation=1, ceil_mode=False)\n",
       "  )\n",
       "  (conv2): Sequential(\n",
       "    (0): Conv2d(16, 32, kernel_size=(5, 5), stride=(1, 1), padding=(2, 2))\n",
       "    (1): ReLU()\n",
       "    (2): MaxPool2d(kernel_size=2, stride=2, padding=0, dilation=1, ceil_mode=False)\n",
       "  )\n",
       "  (out): Linear(in_features=1568, out_features=10, bias=True)\n",
       ")"
      ]
     },
     "execution_count": 10,
     "metadata": {},
     "output_type": "execute_result"
    }
   ],
   "source": [
    "model = Model()\n",
    "model.to(torch.device(\"cuda:0\"))\n",
    "model"
   ]
  },
  {
   "cell_type": "code",
   "execution_count": 11,
   "id": "d1607571",
   "metadata": {},
   "outputs": [],
   "source": [
    "loss_func = nn.CrossEntropyLoss()\n",
    "optimizer = Adam(model.parameters(), lr = .01)"
   ]
  },
  {
   "cell_type": "code",
   "execution_count": 16,
   "id": "26f6656f",
   "metadata": {},
   "outputs": [],
   "source": [
    "epochs = 10\n",
    "\n",
    "def train(epochs, model, loaders):\n",
    "    model.train()\n",
    "    \n",
    "    total_step = len(loaders[\"train\"])\n",
    "    \n",
    "    for epoch in range(epochs):\n",
    "        for i, (images, labels) in enumerate(loaders[\"train\"]):\n",
    "            bX = Variable(images.to(device)) # batch x\n",
    "            bY = Variable(labels.to(device)) # batch y\n",
    "            \n",
    "            output = model(bX)[0]\n",
    "            loss = loss_func(output, bY) \n",
    "            \n",
    "            loss.backward()\n",
    "            optimizer.step()\n",
    "            \n",
    "            if (i + 1) % 100 == 0:\n",
    "                print(\"Epoch: [{} / {}], Step: [{} / {}], Loss: {:.4f}\".format(\n",
    "                    epoch + 1, epochs, i + 1, total_step, loss.item()))\n",
    "                pass\n",
    "            pass\n",
    "        pass"
   ]
  },
  {
   "cell_type": "code",
   "execution_count": 17,
   "id": "276da7ba",
   "metadata": {},
   "outputs": [
    {
     "name": "stdout",
     "output_type": "stream",
     "text": [
      "Epoch: [1 / 10], Step: [100 / 600], Loss: 2.2687\n",
      "Epoch: [1 / 10], Step: [200 / 600], Loss: 2.4737\n",
      "Epoch: [1 / 10], Step: [300 / 600], Loss: 2.5800\n",
      "Epoch: [1 / 10], Step: [400 / 600], Loss: 2.6132\n",
      "Epoch: [1 / 10], Step: [500 / 600], Loss: 2.6147\n",
      "Epoch: [1 / 10], Step: [600 / 600], Loss: 2.6343\n",
      "Epoch: [2 / 10], Step: [100 / 600], Loss: 2.6238\n",
      "Epoch: [2 / 10], Step: [200 / 600], Loss: 2.9146\n",
      "Epoch: [2 / 10], Step: [300 / 600], Loss: 2.5099\n",
      "Epoch: [2 / 10], Step: [400 / 600], Loss: 2.6728\n",
      "Epoch: [2 / 10], Step: [500 / 600], Loss: 3.0246\n",
      "Epoch: [2 / 10], Step: [600 / 600], Loss: 2.6647\n",
      "Epoch: [3 / 10], Step: [100 / 600], Loss: 3.0045\n",
      "Epoch: [3 / 10], Step: [200 / 600], Loss: 2.7354\n",
      "Epoch: [3 / 10], Step: [300 / 600], Loss: 2.9750\n",
      "Epoch: [3 / 10], Step: [400 / 600], Loss: 2.8781\n",
      "Epoch: [3 / 10], Step: [500 / 600], Loss: 2.9946\n",
      "Epoch: [3 / 10], Step: [600 / 600], Loss: 3.2845\n",
      "Epoch: [4 / 10], Step: [100 / 600], Loss: 3.3069\n",
      "Epoch: [4 / 10], Step: [200 / 600], Loss: 2.9643\n",
      "Epoch: [4 / 10], Step: [300 / 600], Loss: 3.1716\n",
      "Epoch: [4 / 10], Step: [400 / 600], Loss: 3.2859\n",
      "Epoch: [4 / 10], Step: [500 / 600], Loss: 3.4350\n",
      "Epoch: [4 / 10], Step: [600 / 600], Loss: 3.5167\n",
      "Epoch: [5 / 10], Step: [100 / 600], Loss: 3.3904\n",
      "Epoch: [5 / 10], Step: [200 / 600], Loss: 3.3076\n",
      "Epoch: [5 / 10], Step: [300 / 600], Loss: 2.7279\n",
      "Epoch: [5 / 10], Step: [400 / 600], Loss: 3.1434\n",
      "Epoch: [5 / 10], Step: [500 / 600], Loss: 3.1007\n",
      "Epoch: [5 / 10], Step: [600 / 600], Loss: 3.5387\n",
      "Epoch: [6 / 10], Step: [100 / 600], Loss: 3.3152\n",
      "Epoch: [6 / 10], Step: [200 / 600], Loss: 3.3101\n",
      "Epoch: [6 / 10], Step: [300 / 600], Loss: 3.6175\n",
      "Epoch: [6 / 10], Step: [400 / 600], Loss: 3.1631\n",
      "Epoch: [6 / 10], Step: [500 / 600], Loss: 3.0624\n",
      "Epoch: [6 / 10], Step: [600 / 600], Loss: 3.0152\n",
      "Epoch: [7 / 10], Step: [100 / 600], Loss: 2.9410\n",
      "Epoch: [7 / 10], Step: [200 / 600], Loss: 3.4475\n",
      "Epoch: [7 / 10], Step: [300 / 600], Loss: 4.0978\n",
      "Epoch: [7 / 10], Step: [400 / 600], Loss: 3.4104\n",
      "Epoch: [7 / 10], Step: [500 / 600], Loss: 3.1365\n",
      "Epoch: [7 / 10], Step: [600 / 600], Loss: 3.0576\n",
      "Epoch: [8 / 10], Step: [100 / 600], Loss: 3.4610\n",
      "Epoch: [8 / 10], Step: [200 / 600], Loss: 3.4999\n",
      "Epoch: [8 / 10], Step: [300 / 600], Loss: 3.3221\n",
      "Epoch: [8 / 10], Step: [400 / 600], Loss: 4.1713\n",
      "Epoch: [8 / 10], Step: [500 / 600], Loss: 3.8175\n",
      "Epoch: [8 / 10], Step: [600 / 600], Loss: 3.7809\n",
      "Epoch: [9 / 10], Step: [100 / 600], Loss: 3.7644\n",
      "Epoch: [9 / 10], Step: [200 / 600], Loss: 4.0953\n",
      "Epoch: [9 / 10], Step: [300 / 600], Loss: 3.1265\n",
      "Epoch: [9 / 10], Step: [400 / 600], Loss: 3.3708\n",
      "Epoch: [9 / 10], Step: [500 / 600], Loss: 2.9903\n",
      "Epoch: [9 / 10], Step: [600 / 600], Loss: 3.4308\n",
      "Epoch: [10 / 10], Step: [100 / 600], Loss: 4.2143\n",
      "Epoch: [10 / 10], Step: [200 / 600], Loss: 4.1739\n",
      "Epoch: [10 / 10], Step: [300 / 600], Loss: 3.3452\n",
      "Epoch: [10 / 10], Step: [400 / 600], Loss: 4.2082\n",
      "Epoch: [10 / 10], Step: [500 / 600], Loss: 3.7543\n",
      "Epoch: [10 / 10], Step: [600 / 600], Loss: 3.6220\n"
     ]
    }
   ],
   "source": [
    "train(epochs, model, loaders)"
   ]
  },
  {
   "cell_type": "code",
   "execution_count": 25,
   "id": "73104cdf",
   "metadata": {},
   "outputs": [],
   "source": [
    "def test():\n",
    "    model.eval()\n",
    "    with torch.no_grad():\n",
    "        correct, total = 0, 0\n",
    "        \n",
    "        for images, labels in loaders[\"test\"]:\n",
    "            images.to(device)\n",
    "            labels.to(device)\n",
    "            test_output, last_layer = model(images.to(device))\n",
    "            pred_y = torch.max(test_output, 1)[1].data.squeeze()\n",
    "            accuracy = (pred_y == labels.to(device)).sum().item() / float(labels.to(device).size(0))\n",
    "            pass\n",
    "        print('Test Accuracy of the model on the 10000 test images: %.2f' % accuracy)\n",
    "        pass"
   ]
  },
  {
   "cell_type": "code",
   "execution_count": 26,
   "id": "d0a8e4b8",
   "metadata": {},
   "outputs": [
    {
     "name": "stdout",
     "output_type": "stream",
     "text": [
      "Test Accuracy of the model on the 10000 test images: 0.08\n"
     ]
    }
   ],
   "source": [
    "test()"
   ]
  },
  {
   "cell_type": "code",
   "execution_count": null,
   "id": "55f13ecb",
   "metadata": {},
   "outputs": [],
   "source": []
  },
  {
   "cell_type": "code",
   "execution_count": null,
   "id": "7e4dc6a0",
   "metadata": {},
   "outputs": [],
   "source": []
  },
  {
   "cell_type": "code",
   "execution_count": null,
   "id": "2e5651f1",
   "metadata": {},
   "outputs": [],
   "source": []
  },
  {
   "cell_type": "code",
   "execution_count": null,
   "id": "4dc67612",
   "metadata": {},
   "outputs": [],
   "source": []
  },
  {
   "cell_type": "code",
   "execution_count": null,
   "id": "302942d4",
   "metadata": {},
   "outputs": [],
   "source": []
  },
  {
   "cell_type": "code",
   "execution_count": null,
   "id": "de23961d",
   "metadata": {},
   "outputs": [],
   "source": []
  }
 ],
 "metadata": {
  "kernelspec": {
   "display_name": "Python 3 (ipykernel)",
   "language": "python",
   "name": "python3"
  },
  "language_info": {
   "codemirror_mode": {
    "name": "ipython",
    "version": 3
   },
   "file_extension": ".py",
   "mimetype": "text/x-python",
   "name": "python",
   "nbconvert_exporter": "python",
   "pygments_lexer": "ipython3",
   "version": "3.8.10"
  }
 },
 "nbformat": 4,
 "nbformat_minor": 5
}
